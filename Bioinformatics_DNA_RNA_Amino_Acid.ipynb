{
  "nbformat": 4,
  "nbformat_minor": 0,
  "metadata": {
    "colab": {
      "name": "Bioinformatics: DNA - RNA - Amino Acid",
      "provenance": [],
      "authorship_tag": "ABX9TyO3cy/AT+IUEcYVHgwPmbKG"
    },
    "kernelspec": {
      "name": "python3",
      "display_name": "Python 3"
    },
    "language_info": {
      "name": "python"
    }
  },
  "cells": [
    {
      "cell_type": "code",
      "metadata": {
        "id": "kf01T-2ZuInw"
      },
      "source": [
        "import numpy as np\n"
      ],
      "execution_count": 19,
      "outputs": []
    },
    {
      "cell_type": "code",
      "metadata": {
        "id": "WedvtYYMuXWN"
      },
      "source": [
        "def intermediate_rna(string):\n",
        "  res = ''\n",
        "  for c in string:\n",
        "    if c == 'A':\n",
        "      res = res + 'T'\n",
        "    elif c == 'T':\n",
        "      res = res + 'A'\n",
        "    elif c == 'G':\n",
        "      res = res + 'C'\n",
        "    elif c == 'C':\n",
        "      res = res + 'G'\n",
        "\n",
        "  return res\n",
        "\n",
        "def final_rna(string):\n",
        "  res = ''\n",
        "  for c in string:\n",
        "    if c == 'T':\n",
        "      res = res + 'U'\n",
        "    else:\n",
        "      res = res + c\n",
        "  return res"
      ],
      "execution_count": 20,
      "outputs": []
    },
    {
      "cell_type": "code",
      "metadata": {
        "id": "-p9AYXNOxxTl"
      },
      "source": [
        "aminoacid_code = {\n",
        "    'UUU': 'Phenylalanine (Phe)',\n",
        "    'UUC': 'Phenylalanine (Phe)',\n",
        "    'UUA': 'Leucine (Leu)',\n",
        "    'UUG': 'Leucine (Leu)',\n",
        "    'CUU': 'Leucine (Leu)',\n",
        "    'CUC': 'Leucine (Leu)',\n",
        "    'CUA': 'Leucine (Leu)',\n",
        "    'CUG': 'Leucine (Leu)',\n",
        "    'AUU': 'Isoleucine (Ile)',\n",
        "    'AUC': 'Isoleucine (Ile)',\n",
        "    'AUA': 'Isoleucine (Ile)',\n",
        "    'AUG': 'Methionine (Met)',\n",
        "    'GUU': 'Valine (Val)',\n",
        "    'GUC': 'Valine (Val)',\n",
        "    'GUA': 'Valine (Val)',\n",
        "    'GUG': 'Valine (Val)',\n",
        "\n",
        "    'UCU': 'Serine (Ser)',\n",
        "    'UCC': 'Serine (Ser)',\n",
        "    'UCA': 'Serine (Ser)',\n",
        "    'UCG': 'Serine (Ser)',\n",
        "    'CCU': 'Proline (Pro)',\n",
        "    'CCC': 'Proline (Pro)',\n",
        "    'CCA': 'Proline (Pro)',\n",
        "    'CCG': 'Proline (Pro)',\n",
        "    'ACU': 'Threonine (Thr)',\n",
        "    'ACC': 'Threonine (Thr)',\n",
        "    'ACA': 'Threonine (Thr)',\n",
        "    'ACG': 'Threonine (Thr)',\n",
        "    'GCU': 'Alanine (Ala)',\n",
        "    'GCC': 'Alanine (Ala)',\n",
        "    'GCA': 'Alanine (Ala)',\n",
        "    'GCG': 'Alanine (Ala)',\n",
        "\n",
        "    'UAU': 'Tyrosine (Tyr)',\n",
        "    'UAC': 'Tyrosine (Tyr)',\n",
        "    'UAA': 'Stop',\n",
        "    'UAG': 'Stop',\n",
        "    'CAU': 'Histidine (His)',\n",
        "    'CAC': 'Histidine (His)',\n",
        "    'CAA': 'Glycine (Gly)',\n",
        "    'CAG': 'Glycine (Gly)',\n",
        "    'AAU': 'Asparagine (Asn)',\n",
        "    'AAC': 'Asparagine (Asn)',\n",
        "    'AAA': 'Lysine (Lys)',\n",
        "    'AAG': 'Lysine (Lys)',\n",
        "    'GAU': 'Aspartic acid (Asp)',\n",
        "    'GAC': 'Aspartic acid (Asp)',\n",
        "    'GAA': 'Glutamic acid (Glu)',\n",
        "\n",
        "    'UGU': 'Cysteine (Cys)',\n",
        "    'UGC': 'Cysteine (Cys)',\n",
        "    'UGA': 'Stop',\n",
        "    'UGG': 'Tryptophan (Trp)',\n",
        "    'CGU': 'Arginine (Arg)',\n",
        "    'CGC': 'Arginine (Arg)',\n",
        "    'CGA': 'Arginine (Arg)',\n",
        "    'CGG': 'Arginine (Arg)',\n",
        "    'AGU': 'Serine (Ser)',\n",
        "    'AGC': 'Serine (Ser)',\n",
        "    'AGA': 'Arginine (Arg)',\n",
        "    'AGG': 'Arginine (Arg)',\n",
        "    'GGU': 'Glycine (Gly)',\n",
        "    'GGC': 'Glycine (Gly)',\n",
        "    'GGA': 'Glycine (Gly)',\n",
        "    'GGG': 'Glycine (Gly)',\n",
        "\n",
        "}"
      ],
      "execution_count": 25,
      "outputs": []
    },
    {
      "cell_type": "code",
      "metadata": {
        "id": "vsJVgAmY1M3b"
      },
      "source": [
        "def code_genetic(string, aminoacid_code=aminoacid_code):\n",
        "  codes = ''\n",
        "  res = ''\n",
        "  for i in range(0, len(string), 3):\n",
        "    codes = codes + ' ' + string[i:i+3]\n",
        "    try:\n",
        "      res = res + ' ' + aminoacid_code[string[i:i+3]][-4:-1]\n",
        "    except:\n",
        "      None\n",
        "  return codes.strip(),  res.strip()"
      ],
      "execution_count": 63,
      "outputs": []
    },
    {
      "cell_type": "code",
      "metadata": {
        "id": "qoFz-ijsPTY3"
      },
      "source": [
        "def synthesis(dna):\n",
        "  print('Start\\t\\t:', dna)\n",
        "  x = intermediate_rna(dna)\n",
        "  print('Intermediate\\t:', x)\n",
        "  x = final_rna(x)\n",
        "  print('Transcribed\\t:', x)\n",
        "  x, y = code_genetic(x)\n",
        "  print('Amino Acid\\t:', x)\n",
        "  print('\\t\\t ', y)"
      ],
      "execution_count": 64,
      "outputs": []
    },
    {
      "cell_type": "code",
      "metadata": {
        "colab": {
          "base_uri": "https://localhost:8080/"
        },
        "id": "98nLIrx3P8s1",
        "outputId": "723c6d3b-effd-430d-f0bd-13732e705177"
      },
      "source": [
        "synthesis('TCATAATACGTTTTGTATTCGCCAGCGCTTCGGTGT')"
      ],
      "execution_count": 65,
      "outputs": [
        {
          "output_type": "stream",
          "text": [
            "Start\t\t: TCATAATACGTTTTGTATTCGCCAGCGCTTCGGTGT\n",
            "Intermediate\t: AGTATTATGCAAAACATAAGCGGTCGCGAAGCCACA\n",
            "Transcribed\t: AGUAUUAUGCAAAACAUAAGCGGUCGCGAAGCCACA\n",
            "Amino Acid\t: AGU AUU AUG CAA AAC AUA AGC GGU CGC GAA GCC ACA\n",
            "\t\t  Ser Ile Met Gly Asn Ile Ser Gly Arg Glu Ala Thr\n"
          ],
          "name": "stdout"
        }
      ]
    },
    {
      "cell_type": "code",
      "metadata": {
        "colab": {
          "base_uri": "https://localhost:8080/"
        },
        "id": "YMN7uFOqP88r",
        "outputId": "24ff74ee-4b30-4a26-c147-4cc102741f01"
      },
      "source": [
        "synthesis('CATAATACGTTTTGTATTCGCCAGCGCTTCGGTGT')"
      ],
      "execution_count": 66,
      "outputs": [
        {
          "output_type": "stream",
          "text": [
            "Start\t\t: CATAATACGTTTTGTATTCGCCAGCGCTTCGGTGT\n",
            "Intermediate\t: GTATTATGCAAAACATAAGCGGTCGCGAAGCCACA\n",
            "Transcribed\t: GUAUUAUGCAAAACAUAAGCGGUCGCGAAGCCACA\n",
            "Amino Acid\t: GUA UUA UGC AAA ACA UAA GCG GUC GCG AAG CCA CA\n",
            "\t\t  Val Leu Cys Lys Thr Sto Ala Val Ala Lys Pro\n"
          ],
          "name": "stdout"
        }
      ]
    }
  ]
}